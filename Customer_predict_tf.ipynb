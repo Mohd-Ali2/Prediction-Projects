{
 "cells": [
  {
   "cell_type": "code",
   "execution_count": 1,
   "metadata": {},
   "outputs": [
    {
     "name": "stderr",
     "output_type": "stream",
     "text": [
      "2024-04-08 23:15:37.812825: W tensorflow/stream_executor/platform/default/dso_loader.cc:64] Could not load dynamic library 'libcudart.so.11.0'; dlerror: libcudart.so.11.0: cannot open shared object file: No such file or directory\n",
      "2024-04-08 23:15:37.812849: I tensorflow/stream_executor/cuda/cudart_stub.cc:29] Ignore above cudart dlerror if you do not have a GPU set up on your machine.\n"
     ]
    }
   ],
   "source": [
    "import pandas as pd \n",
    "import numpy as np \n",
    "import tensorflow as tf "
   ]
  },
  {
   "cell_type": "code",
   "execution_count": 2,
   "metadata": {},
   "outputs": [],
   "source": [
    "df = pd.read_csv('churn.csv')"
   ]
  },
  {
   "cell_type": "code",
   "execution_count": 3,
   "metadata": {},
   "outputs": [
    {
     "name": "stdout",
     "output_type": "stream",
     "text": [
      "       CustomerID  Age  Gender  Tenure  Usage Frequency  Support Calls  \\\n",
      "0               1   22  Female      25               14              4   \n",
      "1               2   41  Female      28               28              7   \n",
      "2               3   47    Male      27               10              2   \n",
      "3               4   35    Male       9               12              5   \n",
      "4               5   53  Female      58               24              9   \n",
      "...           ...  ...     ...     ...              ...            ...   \n",
      "64369       64370   45  Female      33               12              6   \n",
      "64370       64371   37    Male       6                1              5   \n",
      "64371       64372   25    Male      39               14              8   \n",
      "64372       64373   50  Female      18               19              7   \n",
      "64373       64374   52  Female      45               15              9   \n",
      "\n",
      "       Payment Delay Subscription Type Contract Length  Total Spend  \\\n",
      "0                 27             Basic         Monthly          598   \n",
      "1                 13          Standard         Monthly          584   \n",
      "2                 29           Premium          Annual          757   \n",
      "3                 17           Premium       Quarterly          232   \n",
      "4                  2          Standard          Annual          533   \n",
      "...              ...               ...             ...          ...   \n",
      "64369             21             Basic       Quarterly          947   \n",
      "64370             22          Standard          Annual          923   \n",
      "64371             30           Premium         Monthly          327   \n",
      "64372             22          Standard         Monthly          540   \n",
      "64373             25          Standard         Monthly          696   \n",
      "\n",
      "       Last Interaction  Churn  \n",
      "0                     9      1  \n",
      "1                    20      0  \n",
      "2                    21      0  \n",
      "3                    18      0  \n",
      "4                    18      0  \n",
      "...                 ...    ...  \n",
      "64369                14      1  \n",
      "64370                 9      1  \n",
      "64371                20      1  \n",
      "64372                13      1  \n",
      "64373                22      1  \n",
      "\n",
      "[64374 rows x 12 columns]\n"
     ]
    }
   ],
   "source": [
    "print(df)"
   ]
  },
  {
   "cell_type": "code",
   "execution_count": 4,
   "metadata": {},
   "outputs": [],
   "source": [
    "exclude_indices = [0, 4, 5, 7, 11]\n",
    "\n",
    "# Selecting columns other than the ones to exclude\n",
    "x = df.iloc[:, [i for i in range(df.shape[1]) if i not in exclude_indices]]"
   ]
  },
  {
   "cell_type": "code",
   "execution_count": 5,
   "metadata": {},
   "outputs": [
    {
     "name": "stdout",
     "output_type": "stream",
     "text": [
      "       Age  Gender  Tenure  Payment Delay Contract Length  Total Spend  \\\n",
      "0       22  Female      25             27         Monthly          598   \n",
      "1       41  Female      28             13         Monthly          584   \n",
      "2       47    Male      27             29          Annual          757   \n",
      "3       35    Male       9             17       Quarterly          232   \n",
      "4       53  Female      58              2          Annual          533   \n",
      "...    ...     ...     ...            ...             ...          ...   \n",
      "64369   45  Female      33             21       Quarterly          947   \n",
      "64370   37    Male       6             22          Annual          923   \n",
      "64371   25    Male      39             30         Monthly          327   \n",
      "64372   50  Female      18             22         Monthly          540   \n",
      "64373   52  Female      45             25         Monthly          696   \n",
      "\n",
      "       Last Interaction  \n",
      "0                     9  \n",
      "1                    20  \n",
      "2                    21  \n",
      "3                    18  \n",
      "4                    18  \n",
      "...                 ...  \n",
      "64369                14  \n",
      "64370                 9  \n",
      "64371                20  \n",
      "64372                13  \n",
      "64373                22  \n",
      "\n",
      "[64374 rows x 7 columns]\n"
     ]
    }
   ],
   "source": [
    "print(x) "
   ]
  },
  {
   "cell_type": "code",
   "execution_count": 6,
   "metadata": {},
   "outputs": [],
   "source": [
    "y = df.iloc[:, -1].values"
   ]
  },
  {
   "cell_type": "code",
   "execution_count": 7,
   "metadata": {},
   "outputs": [
    {
     "name": "stdout",
     "output_type": "stream",
     "text": [
      "[1 0 0 ... 1 1 1]\n"
     ]
    }
   ],
   "source": [
    "print(y)"
   ]
  },
  {
   "cell_type": "code",
   "execution_count": 8,
   "metadata": {},
   "outputs": [],
   "source": [
    "from sklearn.preprocessing import LabelEncoder\n",
    "le = LabelEncoder()\n",
    "x.iloc[:, 1] = le.fit_transform(x.iloc[:, 1])\n"
   ]
  },
  {
   "cell_type": "code",
   "execution_count": 9,
   "metadata": {},
   "outputs": [
    {
     "name": "stdout",
     "output_type": "stream",
     "text": [
      "       Age Gender  Tenure  Payment Delay Contract Length  Total Spend  \\\n",
      "0       22      0      25             27         Monthly          598   \n",
      "1       41      0      28             13         Monthly          584   \n",
      "2       47      1      27             29          Annual          757   \n",
      "3       35      1       9             17       Quarterly          232   \n",
      "4       53      0      58              2          Annual          533   \n",
      "...    ...    ...     ...            ...             ...          ...   \n",
      "64369   45      0      33             21       Quarterly          947   \n",
      "64370   37      1       6             22          Annual          923   \n",
      "64371   25      1      39             30         Monthly          327   \n",
      "64372   50      0      18             22         Monthly          540   \n",
      "64373   52      0      45             25         Monthly          696   \n",
      "\n",
      "       Last Interaction  \n",
      "0                     9  \n",
      "1                    20  \n",
      "2                    21  \n",
      "3                    18  \n",
      "4                    18  \n",
      "...                 ...  \n",
      "64369                14  \n",
      "64370                 9  \n",
      "64371                20  \n",
      "64372                13  \n",
      "64373                22  \n",
      "\n",
      "[64374 rows x 7 columns]\n"
     ]
    }
   ],
   "source": [
    "print(x)"
   ]
  },
  {
   "cell_type": "code",
   "execution_count": 10,
   "metadata": {},
   "outputs": [],
   "source": [
    "from sklearn.preprocessing import LabelEncoder\n",
    "le = LabelEncoder()\n",
    "x.iloc[:, 4] = le.fit_transform(x.iloc[:, 4])\n"
   ]
  },
  {
   "cell_type": "code",
   "execution_count": 21,
   "metadata": {},
   "outputs": [
    {
     "data": {
      "text/html": [
       "<div>\n",
       "<style scoped>\n",
       "    .dataframe tbody tr th:only-of-type {\n",
       "        vertical-align: middle;\n",
       "    }\n",
       "\n",
       "    .dataframe tbody tr th {\n",
       "        vertical-align: top;\n",
       "    }\n",
       "\n",
       "    .dataframe thead th {\n",
       "        text-align: right;\n",
       "    }\n",
       "</style>\n",
       "<table border=\"1\" class=\"dataframe\">\n",
       "  <thead>\n",
       "    <tr style=\"text-align: right;\">\n",
       "      <th></th>\n",
       "      <th>Age</th>\n",
       "      <th>Gender</th>\n",
       "      <th>Tenure</th>\n",
       "      <th>Payment Delay</th>\n",
       "      <th>Contract Length</th>\n",
       "      <th>Total Spend</th>\n",
       "      <th>Last Interaction</th>\n",
       "    </tr>\n",
       "  </thead>\n",
       "  <tbody>\n",
       "    <tr>\n",
       "      <th>0</th>\n",
       "      <td>22</td>\n",
       "      <td>0</td>\n",
       "      <td>25</td>\n",
       "      <td>27</td>\n",
       "      <td>1</td>\n",
       "      <td>598</td>\n",
       "      <td>9</td>\n",
       "    </tr>\n",
       "    <tr>\n",
       "      <th>1</th>\n",
       "      <td>41</td>\n",
       "      <td>0</td>\n",
       "      <td>28</td>\n",
       "      <td>13</td>\n",
       "      <td>1</td>\n",
       "      <td>584</td>\n",
       "      <td>20</td>\n",
       "    </tr>\n",
       "    <tr>\n",
       "      <th>2</th>\n",
       "      <td>47</td>\n",
       "      <td>1</td>\n",
       "      <td>27</td>\n",
       "      <td>29</td>\n",
       "      <td>0</td>\n",
       "      <td>757</td>\n",
       "      <td>21</td>\n",
       "    </tr>\n",
       "    <tr>\n",
       "      <th>3</th>\n",
       "      <td>35</td>\n",
       "      <td>1</td>\n",
       "      <td>9</td>\n",
       "      <td>17</td>\n",
       "      <td>2</td>\n",
       "      <td>232</td>\n",
       "      <td>18</td>\n",
       "    </tr>\n",
       "    <tr>\n",
       "      <th>4</th>\n",
       "      <td>53</td>\n",
       "      <td>0</td>\n",
       "      <td>58</td>\n",
       "      <td>2</td>\n",
       "      <td>0</td>\n",
       "      <td>533</td>\n",
       "      <td>18</td>\n",
       "    </tr>\n",
       "    <tr>\n",
       "      <th>...</th>\n",
       "      <td>...</td>\n",
       "      <td>...</td>\n",
       "      <td>...</td>\n",
       "      <td>...</td>\n",
       "      <td>...</td>\n",
       "      <td>...</td>\n",
       "      <td>...</td>\n",
       "    </tr>\n",
       "    <tr>\n",
       "      <th>64369</th>\n",
       "      <td>45</td>\n",
       "      <td>0</td>\n",
       "      <td>33</td>\n",
       "      <td>21</td>\n",
       "      <td>2</td>\n",
       "      <td>947</td>\n",
       "      <td>14</td>\n",
       "    </tr>\n",
       "    <tr>\n",
       "      <th>64370</th>\n",
       "      <td>37</td>\n",
       "      <td>1</td>\n",
       "      <td>6</td>\n",
       "      <td>22</td>\n",
       "      <td>0</td>\n",
       "      <td>923</td>\n",
       "      <td>9</td>\n",
       "    </tr>\n",
       "    <tr>\n",
       "      <th>64371</th>\n",
       "      <td>25</td>\n",
       "      <td>1</td>\n",
       "      <td>39</td>\n",
       "      <td>30</td>\n",
       "      <td>1</td>\n",
       "      <td>327</td>\n",
       "      <td>20</td>\n",
       "    </tr>\n",
       "    <tr>\n",
       "      <th>64372</th>\n",
       "      <td>50</td>\n",
       "      <td>0</td>\n",
       "      <td>18</td>\n",
       "      <td>22</td>\n",
       "      <td>1</td>\n",
       "      <td>540</td>\n",
       "      <td>13</td>\n",
       "    </tr>\n",
       "    <tr>\n",
       "      <th>64373</th>\n",
       "      <td>52</td>\n",
       "      <td>0</td>\n",
       "      <td>45</td>\n",
       "      <td>25</td>\n",
       "      <td>1</td>\n",
       "      <td>696</td>\n",
       "      <td>22</td>\n",
       "    </tr>\n",
       "  </tbody>\n",
       "</table>\n",
       "<p>64374 rows × 7 columns</p>\n",
       "</div>"
      ],
      "text/plain": [
       "       Age Gender  Tenure  Payment Delay Contract Length  Total Spend  \\\n",
       "0       22      0      25             27               1          598   \n",
       "1       41      0      28             13               1          584   \n",
       "2       47      1      27             29               0          757   \n",
       "3       35      1       9             17               2          232   \n",
       "4       53      0      58              2               0          533   \n",
       "...    ...    ...     ...            ...             ...          ...   \n",
       "64369   45      0      33             21               2          947   \n",
       "64370   37      1       6             22               0          923   \n",
       "64371   25      1      39             30               1          327   \n",
       "64372   50      0      18             22               1          540   \n",
       "64373   52      0      45             25               1          696   \n",
       "\n",
       "       Last Interaction  \n",
       "0                     9  \n",
       "1                    20  \n",
       "2                    21  \n",
       "3                    18  \n",
       "4                    18  \n",
       "...                 ...  \n",
       "64369                14  \n",
       "64370                 9  \n",
       "64371                20  \n",
       "64372                13  \n",
       "64373                22  \n",
       "\n",
       "[64374 rows x 7 columns]"
      ]
     },
     "execution_count": 21,
     "metadata": {},
     "output_type": "execute_result"
    }
   ],
   "source": [
    "x"
   ]
  },
  {
   "cell_type": "code",
   "execution_count": 12,
   "metadata": {},
   "outputs": [],
   "source": [
    "from sklearn.model_selection import train_test_split\n",
    "x_train, x_test, y_train, y_test = train_test_split(x, y, test_size=0.2, random_state=42)"
   ]
  },
  {
   "cell_type": "code",
   "execution_count": 13,
   "metadata": {},
   "outputs": [],
   "source": [
    "from sklearn.preprocessing import StandardScaler\n",
    "sc = StandardScaler()\n",
    "x_test = sc.fit_transform(x_test)\n",
    "x_train = sc.fit_transform(x_train)"
   ]
  },
  {
   "cell_type": "code",
   "execution_count": 14,
   "metadata": {},
   "outputs": [
    {
     "name": "stderr",
     "output_type": "stream",
     "text": [
      "2024-04-08 23:15:39.683396: W tensorflow/stream_executor/platform/default/dso_loader.cc:64] Could not load dynamic library 'libcuda.so.1'; dlerror: libcuda.so.1: cannot open shared object file: No such file or directory\n",
      "2024-04-08 23:15:39.683428: W tensorflow/stream_executor/cuda/cuda_driver.cc:269] failed call to cuInit: UNKNOWN ERROR (303)\n",
      "2024-04-08 23:15:39.683444: I tensorflow/stream_executor/cuda/cuda_diagnostics.cc:156] kernel driver does not appear to be running on this host (ali-Victus-by-HP-Gaming-Laptop-15-fb0xxx): /proc/driver/nvidia/version does not exist\n",
      "2024-04-08 23:15:39.683599: I tensorflow/core/platform/cpu_feature_guard.cc:151] This TensorFlow binary is optimized with oneAPI Deep Neural Network Library (oneDNN) to use the following CPU instructions in performance-critical operations:  AVX2 FMA\n",
      "To enable them in other operations, rebuild TensorFlow with the appropriate compiler flags.\n"
     ]
    }
   ],
   "source": [
    "ann = tf.keras.models.Sequential()"
   ]
  },
  {
   "cell_type": "code",
   "execution_count": 15,
   "metadata": {},
   "outputs": [],
   "source": [
    "ann.add(tf.keras.layers.Dense(units=10, activation='relu'))"
   ]
  },
  {
   "cell_type": "code",
   "execution_count": 16,
   "metadata": {},
   "outputs": [],
   "source": [
    "ann.add(tf.keras.layers.Dense(units=10, activation='relu'))"
   ]
  },
  {
   "cell_type": "code",
   "execution_count": 17,
   "metadata": {},
   "outputs": [],
   "source": [
    "ann.add(tf.keras.layers.Dense(units=1, activation='sigmoid'))"
   ]
  },
  {
   "cell_type": "code",
   "execution_count": 18,
   "metadata": {},
   "outputs": [],
   "source": [
    "ann.compile(optimizer='adam', loss= 'binary_crossentropy', metrics=['accuracy'])"
   ]
  },
  {
   "cell_type": "code",
   "execution_count": 19,
   "metadata": {},
   "outputs": [
    {
     "name": "stdout",
     "output_type": "stream",
     "text": [
      "Epoch 1/13\n",
      "1610/1610 [==============================] - 1s 509us/step - loss: 0.4753 - accuracy: 0.7820\n",
      "Epoch 2/13\n",
      "1610/1610 [==============================] - 1s 505us/step - loss: 0.4252 - accuracy: 0.8184\n",
      "Epoch 3/13\n",
      "1610/1610 [==============================] - 1s 582us/step - loss: 0.4099 - accuracy: 0.8274\n",
      "Epoch 4/13\n",
      "1610/1610 [==============================] - 1s 592us/step - loss: 0.3977 - accuracy: 0.8333\n",
      "Epoch 5/13\n",
      "1610/1610 [==============================] - 1s 556us/step - loss: 0.3878 - accuracy: 0.8380\n",
      "Epoch 6/13\n",
      "1610/1610 [==============================] - 1s 526us/step - loss: 0.3800 - accuracy: 0.8409\n",
      "Epoch 7/13\n",
      "1610/1610 [==============================] - 1s 526us/step - loss: 0.3744 - accuracy: 0.8432\n",
      "Epoch 8/13\n",
      "1610/1610 [==============================] - 1s 525us/step - loss: 0.3699 - accuracy: 0.8458\n",
      "Epoch 9/13\n",
      "1610/1610 [==============================] - 1s 524us/step - loss: 0.3659 - accuracy: 0.8482\n",
      "Epoch 10/13\n",
      "1610/1610 [==============================] - 1s 536us/step - loss: 0.3626 - accuracy: 0.8505\n",
      "Epoch 11/13\n",
      "1610/1610 [==============================] - 1s 599us/step - loss: 0.3605 - accuracy: 0.8518\n",
      "Epoch 12/13\n",
      "1610/1610 [==============================] - 1s 639us/step - loss: 0.3578 - accuracy: 0.8532\n",
      "Epoch 13/13\n",
      "1610/1610 [==============================] - 1s 546us/step - loss: 0.3560 - accuracy: 0.8529\n"
     ]
    },
    {
     "data": {
      "text/plain": [
       "<keras.callbacks.History at 0x786d1fd62d40>"
      ]
     },
     "execution_count": 19,
     "metadata": {},
     "output_type": "execute_result"
    }
   ],
   "source": [
    "ann.fit(x_train, y_train, batch_size=32, epochs=13)"
   ]
  },
  {
   "cell_type": "code",
   "execution_count": 37,
   "metadata": {},
   "outputs": [
    {
     "name": "stdout",
     "output_type": "stream",
     "text": [
      "[[ True]]\n"
     ]
    },
    {
     "name": "stderr",
     "output_type": "stream",
     "text": [
      "/home/ali/.local/lib/python3.10/site-packages/sklearn/base.py:493: UserWarning: X does not have valid feature names, but StandardScaler was fitted with feature names\n",
      "  warnings.warn(\n"
     ]
    }
   ],
   "source": [
    "print((ann.predict(sc.transform([[22, 0, 25, 27, 1, 598, 9]])) > 0.5))"
   ]
  },
  {
   "cell_type": "code",
   "execution_count": 40,
   "metadata": {},
   "outputs": [
    {
     "name": "stdout",
     "output_type": "stream",
     "text": [
      "[[0 0]\n",
      " [0 0]\n",
      " [1 1]\n",
      " ...\n",
      " [1 1]\n",
      " [1 0]\n",
      " [1 0]]\n",
      "[[5758 1035]\n",
      " [ 775 5307]]\n"
     ]
    }
   ],
   "source": [
    "y_pred = ann.predict(x_test)\n",
    "y_pred = (y_pred > 0.5)\n",
    "print(np.concatenate((y_pred.reshape(len(y_pred), 1), y_test.reshape(len(y_test), 1)),1))\n",
    "from sklearn.metrics import confusion_matrix, accuracy_score\n",
    "cm = confusion_matrix( y_test, y_pred)\n",
    "print(cm)"
   ]
  },
  {
   "cell_type": "code",
   "execution_count": 41,
   "metadata": {},
   "outputs": [
    {
     "data": {
      "text/plain": [
       "0.8594174757281553"
      ]
     },
     "execution_count": 41,
     "metadata": {},
     "output_type": "execute_result"
    }
   ],
   "source": [
    "accuracy_score(y_test, y_pred)"
   ]
  }
 ],
 "metadata": {
  "kernelspec": {
   "display_name": "Python 3",
   "language": "python",
   "name": "python3"
  },
  "language_info": {
   "codemirror_mode": {
    "name": "ipython",
    "version": 3
   },
   "file_extension": ".py",
   "mimetype": "text/x-python",
   "name": "python",
   "nbconvert_exporter": "python",
   "pygments_lexer": "ipython3",
   "version": "3.10.12"
  }
 },
 "nbformat": 4,
 "nbformat_minor": 2
}
